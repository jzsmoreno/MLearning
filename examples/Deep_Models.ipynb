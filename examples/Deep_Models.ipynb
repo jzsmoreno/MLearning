{
 "cells": [
  {
   "cell_type": "code",
   "execution_count": 1,
   "metadata": {},
   "outputs": [],
   "source": [
    "%%capture\n",
    "import sys\n",
    "\n",
    "# Añade el directorio principal al path de búsqueda para importar módulos desde esa ubicación\n",
    "sys.path.insert(0, \"..\")\n",
    "\n",
    "# Desactivar los warnings para evitar mensajes innecesarios durante la ejecución\n",
    "import warnings\n",
    "\n",
    "# Importación de bibliotecas necesarias\n",
    "import numpy as np\n",
    "import pandas as pd\n",
    "from sklearn import datasets\n",
    "\n",
    "from likelihood.models.deep import (\n",
    "    AutoClassifier,\n",
    "    setup_model,\n",
    ")  # Modelos de deep learning personalizados\n",
    "from likelihood.tools import OneHotEncoder, get_metrics  # Herramientas auxiliares\n",
    "\n",
    "warnings.filterwarnings(\"ignore\")\n",
    "import tensorflow as tf"
   ]
  },
  {
   "cell_type": "code",
   "execution_count": 2,
   "metadata": {},
   "outputs": [],
   "source": [
    "# Cargar el dataset de cáncer de mama desde sklearn\n",
    "df = datasets.load_breast_cancer()\n",
    "\n",
    "# Convertir los datos a un DataFrame de pandas para facilitar la manipulación\n",
    "df_cancer = pd.DataFrame(data=df.data, columns=df.feature_names)\n",
    "df_cancer[\"target\"] = df.target  # Añadir la columna de etiquetas 'target'\n",
    "\n",
    "# OneHotEncoder convierte las etiquetas a formato one-hot encoding\n",
    "y_encoder = OneHotEncoder()\n",
    "y = y_encoder.encode(df_cancer[\"target\"].to_list())  # Codificar las etiquetas de la clase (target)\n",
    "X = df_cancer.drop(\n",
    "    columns=\"target\"\n",
    ").to_numpy()  # Extraer las características (sin la columna 'target')\n",
    "X = np.asarray(X).astype(np.float32)  # Convertir X a tipo float32 para la entrada del modelo\n",
    "y = np.asarray(y).astype(np.float32)  # Convertir y a tipo float32"
   ]
  },
  {
   "cell_type": "code",
   "execution_count": 3,
   "metadata": {},
   "outputs": [
    {
     "name": "stdout",
     "output_type": "stream",
     "text": [
      "18/18 [==============================] - 0s 921us/step\n",
      "Accuracy: 90.86%\n",
      "Precision: 88.41%\n",
      "Recall: 98.32%\n",
      "F1-Score: 93.10\n",
      "Cohen's Kappa: 0.7967\n"
     ]
    }
   ],
   "source": [
    "# Crear el modelo de clasificación automática con las especificaciones dadas\n",
    "model = AutoClassifier(\n",
    "    input_shape_parm=X.shape[1],  # El número de características de entrada (columnas de X)\n",
    "    num_classes=y.shape[1],  # El número de clases (salidas) del modelo\n",
    "    units=17,  # Número de unidades en las capas ocultas\n",
    "    activation=\"selu\",  # Función de activación de las capas ocultas\n",
    ")\n",
    "\n",
    "# Compilación del modelo: optimizador, función de pérdida y métricas\n",
    "model.compile(\n",
    "    optimizer=\"adam\",  # Optimizador Adam\n",
    "    loss=tf.keras.losses.CategoricalCrossentropy(),  # Función de pérdida para clasificación multiclase\n",
    "    metrics=[\n",
    "        tf.keras.metrics.F1Score(threshold=0.5)\n",
    "    ],  # Métrica F1 (threshold = 0.5 para predicciones)\n",
    ")\n",
    "\n",
    "# Entrenar el modelo con los datos, usando 15 épocas y 20% de los datos para validación\n",
    "model.fit(X, y, epochs=15, validation_split=0.2, verbose=False)\n",
    "\n",
    "# Hacer predicciones sobre el conjunto de entrenamiento\n",
    "pred = model.predict(X)\n",
    "\n",
    "# Convertir las predicciones a las etiquetas predichas (máxima probabilidad)\n",
    "pred_label = np.argmax(pred, axis=1)\n",
    "\n",
    "# Añadir las predicciones al DataFrame original para su análisis\n",
    "df = df_cancer.copy()\n",
    "df_cancer[\"prediction\"] = pred_label  # Columna de las etiquetas predichas\n",
    "df_cancer[\"label_0\"] = pred[:, 0]  # Probabilidad de la clase 0\n",
    "df_cancer[\"label_1\"] = pred[:, 1]  # Probabilidad de la clase 1\n",
    "\n",
    "# Calcular y mostrar las métricas del modelo comparando las etiquetas reales y las predicciones\n",
    "get_metrics(df_cancer, \"target\", \"prediction\", verbose=True)\n",
    "\n",
    "# Guardar el DataFrame con las predicciones en un archivo CSV\n",
    "df_cancer.to_csv(\"test.csv\", index=False)\n",
    "\n",
    "# Guardar el modelo entrenado en el disco en formato TensorFlow\n",
    "model.save(\"best_model\", save_format=\"tf\")"
   ]
  },
  {
   "cell_type": "code",
   "execution_count": 4,
   "metadata": {},
   "outputs": [
    {
     "name": "stdout",
     "output_type": "stream",
     "text": [
      "18/18 [==============================] - 0s 1ms/step\n",
      "Accuracy: 90.86%\n",
      "Precision: 88.41%\n",
      "Recall: 98.32%\n",
      "F1-Score: 93.10\n",
      "Cohen's Kappa: 0.7967\n"
     ]
    }
   ],
   "source": [
    "# Cargar el modelo guardado desde el disco\n",
    "model = tf.keras.models.load_model(\"best_model\")\n",
    "\n",
    "# Hacer predicciones nuevamente con el modelo cargado\n",
    "pred = model.predict(X)\n",
    "\n",
    "# Obtener las etiquetas predichas para las nuevas predicciones\n",
    "pred_label = np.argmax(pred, axis=1)\n",
    "\n",
    "# Añadir las nuevas predicciones al DataFrame original\n",
    "df[\"prediction\"] = pred_label\n",
    "\n",
    "# Calcular y mostrar las métricas nuevamente con el modelo cargado\n",
    "get_metrics(df, \"target\", \"prediction\", verbose=True)"
   ]
  },
  {
   "cell_type": "code",
   "execution_count": 5,
   "metadata": {},
   "outputs": [
    {
     "name": "stdout",
     "output_type": "stream",
     "text": [
      "Directory ./my_dir already exists, it will be deleted.\n"
     ]
    }
   ],
   "source": [
    "model, best_hps = setup_model(\n",
    "    data=df_cancer.drop(columns=[\"prediction\", \"label_0\", \"label_1\"]),\n",
    "    target=\"target\",\n",
    "    epochs=10,\n",
    "    filepath=\"./best_model\",\n",
    "    verbose=False,\n",
    "    method=\"RandomSearch\",\n",
    ")"
   ]
  },
  {
   "cell_type": "code",
   "execution_count": 6,
   "metadata": {},
   "outputs": [
    {
     "data": {
      "text/html": [
       "<div>\n",
       "<style scoped>\n",
       "    .dataframe tbody tr th:only-of-type {\n",
       "        vertical-align: middle;\n",
       "    }\n",
       "\n",
       "    .dataframe tbody tr th {\n",
       "        vertical-align: top;\n",
       "    }\n",
       "\n",
       "    .dataframe thead th {\n",
       "        text-align: right;\n",
       "    }\n",
       "</style>\n",
       "<table border=\"1\" class=\"dataframe\">\n",
       "  <thead>\n",
       "    <tr style=\"text-align: right;\">\n",
       "      <th></th>\n",
       "      <th>units</th>\n",
       "      <th>activation</th>\n",
       "      <th>optimizer</th>\n",
       "      <th>threshold</th>\n",
       "      <th>num_layers</th>\n",
       "    </tr>\n",
       "  </thead>\n",
       "  <tbody>\n",
       "    <tr>\n",
       "      <th>Value</th>\n",
       "      <td>40</td>\n",
       "      <td>softplus</td>\n",
       "      <td>adamax</td>\n",
       "      <td>0.369346</td>\n",
       "      <td>9</td>\n",
       "    </tr>\n",
       "  </tbody>\n",
       "</table>\n",
       "</div>"
      ],
      "text/plain": [
       "       units activation optimizer  threshold  num_layers\n",
       "Value     40   softplus    adamax   0.369346           9"
      ]
     },
     "execution_count": 6,
     "metadata": {},
     "output_type": "execute_result"
    }
   ],
   "source": [
    "best_hps"
   ]
  },
  {
   "cell_type": "code",
   "execution_count": 7,
   "metadata": {},
   "outputs": [
    {
     "name": "stdout",
     "output_type": "stream",
     "text": [
      "18/18 [==============================] - 0s 2ms/step\n",
      "Accuracy: 92.79%\n",
      "Precision: 91.58%\n",
      "Recall: 97.48%\n",
      "F1-Score: 94.44\n",
      "Cohen's Kappa: 0.8424\n"
     ]
    }
   ],
   "source": [
    "pred = model.predict(X)\n",
    "# Convertir las predicciones a las etiquetas predichas (máxima probabilidad)\n",
    "pred_label = np.argmax(pred, axis=1)\n",
    "\n",
    "# Añadir las predicciones al DataFrame original para su análisis\n",
    "df_cancer[\"prediction\"] = pred_label  # Columna de las etiquetas predichas\n",
    "df_cancer[\"label_0\"] = pred[:, 0]  # Probabilidad de la clase 0\n",
    "df_cancer[\"label_1\"] = pred[:, 1]  # Probabilidad de la clase 1\n",
    "get_metrics(df_cancer, \"target\", \"prediction\", verbose=True)"
   ]
  },
  {
   "cell_type": "code",
   "execution_count": 8,
   "metadata": {},
   "outputs": [
    {
     "name": "stdout",
     "output_type": "stream",
     "text": [
      "18/18 [==============================] - 0s 2ms/step\n",
      "Accuracy: 92.79%\n",
      "Precision: 91.58%\n",
      "Recall: 97.48%\n",
      "F1-Score: 94.44\n",
      "Cohen's Kappa: 0.8424\n"
     ]
    }
   ],
   "source": [
    "model = tf.keras.models.load_model(\"best_model\")\n",
    "\n",
    "pred = model.predict(X)\n",
    "# Convertir las predicciones a las etiquetas predichas (máxima probabilidad)\n",
    "pred_label = np.argmax(pred, axis=1)\n",
    "\n",
    "# Añadir las predicciones al DataFrame original para su análisis\n",
    "df_cancer[\"prediction\"] = pred_label  # Columna de las etiquetas predichas\n",
    "df_cancer[\"label_0\"] = pred[:, 0]  # Probabilidad de la clase 0\n",
    "df_cancer[\"label_1\"] = pred[:, 1]  # Probabilidad de la clase 1\n",
    "get_metrics(df_cancer, \"target\", \"prediction\", verbose=True)"
   ]
  },
  {
   "cell_type": "code",
   "execution_count": null,
   "metadata": {},
   "outputs": [],
   "source": []
  }
 ],
 "metadata": {
  "kernelspec": {
   "display_name": "Python 3",
   "language": "python",
   "name": "python3"
  },
  "language_info": {
   "codemirror_mode": {
    "name": "ipython",
    "version": 3
   },
   "file_extension": ".py",
   "mimetype": "text/x-python",
   "name": "python",
   "nbconvert_exporter": "python",
   "pygments_lexer": "ipython3",
   "version": "3.11.9"
  }
 },
 "nbformat": 4,
 "nbformat_minor": 2
}
