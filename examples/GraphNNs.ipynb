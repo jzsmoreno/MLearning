{
 "cells": [
  {
   "cell_type": "markdown",
   "metadata": {},
   "source": [
    "# Graph Neural Networks (GNNs)\n",
    "\n",
    "Graph Neural Networks (GNNs) are a class of neural networks specifically designed to process data that is structured as graphs. They are particularly effective in capturing the relationships and dependencies between entities represented as nodes and edges in a graph.\n",
    "\n",
    "## Key Concepts\n",
    "\n",
    "- **Graph Representation**: In a GNN, data is represented as a graph $G = (V, E)$, where $V$ is the set of nodes (vertices) and $E$ is the set of edges connecting pairs of nodes. Each node and edge can have associated features that provide additional information.\n",
    "\n",
    "- **Message Passing**: GNNs operate through a process known as message passing, where nodes iteratively update their representations by aggregating information from their neighbors. This allows the network to capture local and global structural information within the graph.\n",
    "\n",
    "- **Permutation Invariance**: A fundamental property of GNNs is permutation invariance, meaning that the output of the network does not depend on the order of the nodes in the input graph. This ensures that the model's predictions are consistent regardless of node ordering."
   ]
  },
  {
   "cell_type": "code",
   "execution_count": null,
   "metadata": {},
   "outputs": [],
   "source": [
    "%%capture\n",
    "# Example usage\n",
    "import sys\n",
    "\n",
    "# Añade el directorio principal al path de búsqueda para importar módulos desde esa ubicación\n",
    "sys.path.insert(0, \"..\")\n",
    "\n",
    "import pandas as pd\n",
    "from sklearn.datasets import load_iris\n",
    "import numpy as np\n",
    "import tensorflow as tf\n",
    "\n",
    "from likelihood.graph.nn import Data, VanillaGNN\n",
    "from likelihood.tools import graph_metrics"
   ]
  },
  {
   "cell_type": "markdown",
   "metadata": {},
   "source": [
    "## Vanilla Graph Neural Networks (Vanilla GNNs)\n",
    "\n",
    "Vanilla GNNs, introduced by Scarselli et al. in 2009, are the foundational models of graph-based neural networks. They are simple yet powerful models designed for learning on graph-structured data.\n",
    "\n",
    "### Key Features:\n",
    "- **Message Passing Scheme**: In Vanilla GNNs, each node updates its representation by receiving messages (features) from its neighbors in the graph. This message passing occurs over several iterations to capture broader graph structures.\n",
    "- **Neighborhood Aggregation**: Each node aggregates features from its immediate neighbors (and potentially higher-order neighbors in further layers), updating its own representation.\n",
    "\n",
    "### Limitations of Vanilla GNNs:\n",
    "- **Expressive Power**: Vanilla GNNs are limited in their expressive power and can struggle with distinguishing non-isomorphic graphs. This is because they rely on a relatively simple message-passing scheme.\n",
    "- **Over-Smoothing**: As the depth of the GNN increases, node representations may converge, leading to the over-smoothing problem where nodes’ embeddings become indistinguishable.\n",
    "  \n",
    "Researchers have proposed advanced variants of GNNs to address these issues, including GCNs, GATs, and more.\n",
    "\n",
    "## Applications\n",
    "\n",
    "GNNs have been successfully applied in various domains, including:\n",
    "\n",
    "- **Social Networks**: Modeling relationships and interactions between individuals to predict behaviors or identify communities.\n",
    "\n",
    "- **Recommendation Systems**: Leveraging user-item interaction graphs to provide personalized recommendations.\n",
    "\n",
    "- **Drug Discovery**: Predicting molecular properties by representing molecules as graphs, where nodes are atoms and edges are chemical bonds. ([en.wikipedia.org](https://en.wikipedia.org/wiki/Graph_neural_network?))\n",
    "\n",
    "- **Computer Vision**: Analyzing images by treating pixels or superpixels as nodes in a graph, capturing spatial relationships.\n",
    "\n",
    "## Advantages\n",
    "\n",
    "- **Expressiveness**: GNNs can model complex dependencies and structures inherent in graph data, capturing both local and global patterns.\n",
    "\n",
    "- **Scalability**: With advancements in architecture and training techniques, GNNs can be scaled to handle large graphs commonly encountered in real-world applications.\n",
    "\n",
    "## Challenges\n",
    "\n",
    "- **Over-Smoothing**: As the number of message-passing layers increases, node representations can become indistinguishable, leading to performance degradation. Techniques like residual connections and attention mechanisms are employed to mitigate this issue.\n",
    "\n",
    "- **Scalability**: Handling large-scale graphs with millions of nodes and edges poses computational challenges. Research is ongoing to develop more efficient algorithms and architectures.\n",
    "\n",
    "## Further Reading\n",
    "\n",
    "- [A Gentle Introduction to Graph Neural Networks](https://distill.pub/2021/gnn-intro): An accessible introduction to the concepts and mechanisms behind GNNs.\n",
    "\n",
    "- [A Comprehensive Survey on Graph Neural Networks](https://arxiv.org/abs/1901.00596): An in-depth survey covering various GNN architectures, applications, and future directions.\n",
    "\n",
    "- [Graph Neural Networks: Methods, Applications, and Opportunities](https://arxiv.org/abs/2108.10733): A comprehensive overview of GNN methods, their applications, and the opportunities they present across different domains."
   ]
  },
  {
   "cell_type": "code",
   "execution_count": null,
   "metadata": {},
   "outputs": [],
   "source": [
    "# Load the dataset\n",
    "iris = load_iris()\n",
    "\n",
    "# Convert to a DataFrame for easy exploration\n",
    "iris_df = pd.DataFrame(data=iris.data, columns=iris.feature_names)\n",
    "iris_df[\"species\"] = iris.target\n",
    "\n",
    "# Display the first few rows of the dataset\n",
    "iris_df.head()"
   ]
  },
  {
   "cell_type": "code",
   "execution_count": null,
   "metadata": {},
   "outputs": [],
   "source": [
    "iris_df = iris_df.sample(frac=1, replace=False).reset_index(drop=True)\n",
    "\n",
    "data = Data(iris_df, \"species\")\n",
    "\n",
    "model = VanillaGNN(\n",
    "    dim_in=data.x.shape[1], dim_h=8, dim_out=len(iris_df[\"species\"].unique()), rank=4\n",
    ")\n",
    "print(\"Before training F1:\", model.test(data))\n",
    "model.fit(data, epochs=400, batch_size=32, test_size=0.5)\n",
    "model.save(\"./graph_model\", save_format=\"tf\")\n",
    "print(\"After training F1:\", model.test(data))\n",
    "best_model = tf.keras.models.load_model(\"./graph_model\")"
   ]
  },
  {
   "cell_type": "code",
   "execution_count": null,
   "metadata": {},
   "outputs": [],
   "source": [
    "print(\"After loading F1:\", best_model.test(data))\n",
    "df_results = pd.DataFrame()\n",
    "\n",
    "# Suppose we have a new dataset without the target variable\n",
    "iris_df = iris_df.drop(columns=[\"species\"])\n",
    "data_new = Data(iris_df)\n",
    "print(\"Predictions:\", best_model.predict(data_new))\n",
    "df_results[\"predicted\"] = list(model.predict(data))\n",
    "df_results[\"actual\"] = list(data.y)"
   ]
  },
  {
   "cell_type": "code",
   "execution_count": null,
   "metadata": {},
   "outputs": [],
   "source": [
    "data = Data(iris_df, sparse=False)\n",
    "gnn_df = graph_metrics(data.adjacency)\n",
    "gnn_df.head()"
   ]
  },
  {
   "cell_type": "code",
   "execution_count": null,
   "metadata": {},
   "outputs": [],
   "source": [
    "import matplotlib.pyplot as plt\n",
    "import seaborn as sns\n",
    "import networkx as nx\n",
    "\n",
    "\n",
    "def plot_adjacency_heatmap(adj_matrix, figsize=(8, 6)):\n",
    "    \"\"\"Plots a heatmap for the given adjacency matrix.\"\"\"\n",
    "    adj_matrix = np.array(adj_matrix)\n",
    "    plt.figure(figsize=figsize)\n",
    "    sns.heatmap(adj_matrix, annot=True, cmap=\"coolwarm\", cbar=True, square=True)\n",
    "    plt.title(\"Adjacency Matrix Heatmap\")\n",
    "    plt.show()\n",
    "\n",
    "\n",
    "def plot_graph_from_adjacency(adj_matrix, figsize=(8, 6)):\n",
    "    \"\"\"Plots a graph based on the given adjacency matrix.\"\"\"\n",
    "    adj_matrix = np.array(adj_matrix)\n",
    "    np.fill_diagonal(adj_matrix, 0.0)\n",
    "    G = nx.from_numpy_array(adj_matrix, create_using=nx.DiGraph)\n",
    "    plt.figure(figsize=figsize)\n",
    "    pos = nx.kamada_kawai_layout(G, weight=None)\n",
    "    degrees = [val for _, val in G.degree()]\n",
    "    node_color = degrees\n",
    "    cmap = plt.cm.viridis\n",
    "    nx.draw(\n",
    "        G,\n",
    "        pos,\n",
    "        with_labels=True,\n",
    "        node_size=500,\n",
    "        node_color=node_color,\n",
    "        cmap=cmap,\n",
    "        font_size=8,\n",
    "        font_weight=\"bold\",\n",
    "        edge_color=\"gray\",\n",
    "        width=1,\n",
    "        alpha=0.8,\n",
    "        edgecolors=\"black\",\n",
    "        font_color=\"black\",\n",
    "        arrows=True,\n",
    "    )\n",
    "\n",
    "    plt.title(\"Graph Representation of Adjacency Matrix\", fontsize=16)\n",
    "    plt.axis(\"off\")\n",
    "    plt.show()\n",
    "\n",
    "\n",
    "plot_adjacency_heatmap(data.adjacency)"
   ]
  },
  {
   "cell_type": "code",
   "execution_count": null,
   "metadata": {},
   "outputs": [],
   "source": [
    "plot_graph_from_adjacency(data.adjacency)"
   ]
  },
  {
   "cell_type": "code",
   "execution_count": null,
   "metadata": {},
   "outputs": [],
   "source": []
  }
 ],
 "metadata": {
  "kernelspec": {
   "display_name": "Python 3",
   "language": "python",
   "name": "python3"
  },
  "language_info": {
   "codemirror_mode": {
    "name": "ipython",
    "version": 3
   },
   "file_extension": ".py",
   "mimetype": "text/x-python",
   "name": "python",
   "nbconvert_exporter": "python",
   "pygments_lexer": "ipython3",
   "version": "3.11.9"
  }
 },
 "nbformat": 4,
 "nbformat_minor": 2
}
